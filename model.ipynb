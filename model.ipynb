{
 "cells": [
  {
   "cell_type": "code",
   "execution_count": 1,
   "metadata": {},
   "outputs": [],
   "source": [
    "import pandas as pd\n",
    "import numpy as np\n",
    "import scipy as sp\n",
    "from sklearn.metrics.pairwise import cosine_similarity\n",
    "import operator"
   ]
  },
  {
   "cell_type": "code",
   "execution_count": 2,
   "metadata": {},
   "outputs": [
    {
     "data": {
      "text/html": [
       "<div>\n",
       "<style scoped>\n",
       "    .dataframe tbody tr th:only-of-type {\n",
       "        vertical-align: middle;\n",
       "    }\n",
       "\n",
       "    .dataframe tbody tr th {\n",
       "        vertical-align: top;\n",
       "    }\n",
       "\n",
       "    .dataframe thead th {\n",
       "        text-align: right;\n",
       "    }\n",
       "</style>\n",
       "<table border=\"1\" class=\"dataframe\">\n",
       "  <thead>\n",
       "    <tr style=\"text-align: right;\">\n",
       "      <th></th>\n",
       "      <th>anime_id</th>\n",
       "      <th>name</th>\n",
       "      <th>genre</th>\n",
       "      <th>type</th>\n",
       "      <th>episodes</th>\n",
       "      <th>rating</th>\n",
       "      <th>members</th>\n",
       "    </tr>\n",
       "  </thead>\n",
       "  <tbody>\n",
       "    <tr>\n",
       "      <th>0</th>\n",
       "      <td>32281</td>\n",
       "      <td>Kimi no Na wa.</td>\n",
       "      <td>Drama, Romance, School, Supernatural</td>\n",
       "      <td>Movie</td>\n",
       "      <td>1</td>\n",
       "      <td>9.37</td>\n",
       "      <td>200630</td>\n",
       "    </tr>\n",
       "    <tr>\n",
       "      <th>1</th>\n",
       "      <td>5114</td>\n",
       "      <td>Fullmetal Alchemist: Brotherhood</td>\n",
       "      <td>Action, Adventure, Drama, Fantasy, Magic, Mili...</td>\n",
       "      <td>TV</td>\n",
       "      <td>64</td>\n",
       "      <td>9.26</td>\n",
       "      <td>793665</td>\n",
       "    </tr>\n",
       "    <tr>\n",
       "      <th>2</th>\n",
       "      <td>28977</td>\n",
       "      <td>Gintama°</td>\n",
       "      <td>Action, Comedy, Historical, Parody, Samurai, S...</td>\n",
       "      <td>TV</td>\n",
       "      <td>51</td>\n",
       "      <td>9.25</td>\n",
       "      <td>114262</td>\n",
       "    </tr>\n",
       "    <tr>\n",
       "      <th>3</th>\n",
       "      <td>9253</td>\n",
       "      <td>Steins;Gate</td>\n",
       "      <td>Sci-Fi, Thriller</td>\n",
       "      <td>TV</td>\n",
       "      <td>24</td>\n",
       "      <td>9.17</td>\n",
       "      <td>673572</td>\n",
       "    </tr>\n",
       "    <tr>\n",
       "      <th>4</th>\n",
       "      <td>9969</td>\n",
       "      <td>Gintama&amp;#039;</td>\n",
       "      <td>Action, Comedy, Historical, Parody, Samurai, S...</td>\n",
       "      <td>TV</td>\n",
       "      <td>51</td>\n",
       "      <td>9.16</td>\n",
       "      <td>151266</td>\n",
       "    </tr>\n",
       "  </tbody>\n",
       "</table>\n",
       "</div>"
      ],
      "text/plain": [
       "   anime_id                              name  \\\n",
       "0     32281                    Kimi no Na wa.   \n",
       "1      5114  Fullmetal Alchemist: Brotherhood   \n",
       "2     28977                          Gintama°   \n",
       "3      9253                       Steins;Gate   \n",
       "4      9969                     Gintama&#039;   \n",
       "\n",
       "                                               genre   type episodes  rating  \\\n",
       "0               Drama, Romance, School, Supernatural  Movie        1    9.37   \n",
       "1  Action, Adventure, Drama, Fantasy, Magic, Mili...     TV       64    9.26   \n",
       "2  Action, Comedy, Historical, Parody, Samurai, S...     TV       51    9.25   \n",
       "3                                   Sci-Fi, Thriller     TV       24    9.17   \n",
       "4  Action, Comedy, Historical, Parody, Samurai, S...     TV       51    9.16   \n",
       "\n",
       "   members  \n",
       "0   200630  \n",
       "1   793665  \n",
       "2   114262  \n",
       "3   673572  \n",
       "4   151266  "
      ]
     },
     "execution_count": 2,
     "metadata": {},
     "output_type": "execute_result"
    }
   ],
   "source": [
    "# load anime dataset\n",
    "anime_df = pd.read_csv('anime.csv')\n",
    "anime_df.head()"
   ]
  },
  {
   "cell_type": "code",
   "execution_count": 3,
   "metadata": {},
   "outputs": [
    {
     "data": {
      "text/html": [
       "<div>\n",
       "<style scoped>\n",
       "    .dataframe tbody tr th:only-of-type {\n",
       "        vertical-align: middle;\n",
       "    }\n",
       "\n",
       "    .dataframe tbody tr th {\n",
       "        vertical-align: top;\n",
       "    }\n",
       "\n",
       "    .dataframe thead th {\n",
       "        text-align: right;\n",
       "    }\n",
       "</style>\n",
       "<table border=\"1\" class=\"dataframe\">\n",
       "  <thead>\n",
       "    <tr style=\"text-align: right;\">\n",
       "      <th></th>\n",
       "      <th>user_id</th>\n",
       "      <th>anime_id</th>\n",
       "      <th>rating</th>\n",
       "    </tr>\n",
       "  </thead>\n",
       "  <tbody>\n",
       "    <tr>\n",
       "      <th>0</th>\n",
       "      <td>1</td>\n",
       "      <td>20</td>\n",
       "      <td>-1</td>\n",
       "    </tr>\n",
       "    <tr>\n",
       "      <th>1</th>\n",
       "      <td>1</td>\n",
       "      <td>24</td>\n",
       "      <td>-1</td>\n",
       "    </tr>\n",
       "    <tr>\n",
       "      <th>2</th>\n",
       "      <td>1</td>\n",
       "      <td>79</td>\n",
       "      <td>-1</td>\n",
       "    </tr>\n",
       "    <tr>\n",
       "      <th>3</th>\n",
       "      <td>1</td>\n",
       "      <td>226</td>\n",
       "      <td>-1</td>\n",
       "    </tr>\n",
       "    <tr>\n",
       "      <th>4</th>\n",
       "      <td>1</td>\n",
       "      <td>241</td>\n",
       "      <td>-1</td>\n",
       "    </tr>\n",
       "  </tbody>\n",
       "</table>\n",
       "</div>"
      ],
      "text/plain": [
       "   user_id  anime_id  rating\n",
       "0        1        20      -1\n",
       "1        1        24      -1\n",
       "2        1        79      -1\n",
       "3        1       226      -1\n",
       "4        1       241      -1"
      ]
     },
     "execution_count": 3,
     "metadata": {},
     "output_type": "execute_result"
    }
   ],
   "source": [
    "# load rating dataset\n",
    "rating_df = pd.read_csv('rating.csv')\n",
    "rating_df.head()"
   ]
  },
  {
   "cell_type": "markdown",
   "metadata": {},
   "source": [
    "# Data preprocessing\n",
    "\n",
    "Before building the recommendation system, we need to preprocess the data, which includes handling missing values and drop duplicated items."
   ]
  },
  {
   "cell_type": "code",
   "execution_count": 35,
   "metadata": {},
   "outputs": [],
   "source": [
    "# to make computation faster, we will only use the first 35000 users\n",
    "rating_df = rating_df[rating_df['user_id'] <= 9000]"
   ]
  },
  {
   "cell_type": "code",
   "execution_count": 36,
   "metadata": {},
   "outputs": [],
   "source": [
    "# preprocess the rating dataset, mark -1 as NaN\n",
    "rating_df['rating'] = rating_df['rating'].replace(-1, np.nan)"
   ]
  },
  {
   "cell_type": "code",
   "execution_count": 37,
   "metadata": {},
   "outputs": [],
   "source": [
    "# delete duplicate items\n",
    "rating_df = rating_df.drop_duplicates(['user_id', 'anime_id'])"
   ]
  },
  {
   "cell_type": "code",
   "execution_count": 38,
   "metadata": {},
   "outputs": [],
   "source": [
    "# create a user-item interaction matrix\n",
    "user_item_matrix = rating_df.pivot(index='user_id', columns='anime_id', values='rating')"
   ]
  },
  {
   "cell_type": "markdown",
   "metadata": {},
   "source": [
    "# User-based Collaborative Filtering\n",
    "\n",
    "To implement user-based collaborative filtering, we need to calculate the similarity between users based on their ratings. We can use similarity metrics such as cosine similarity or Pearson correlation."
   ]
  },
  {
   "cell_type": "code",
   "execution_count": 39,
   "metadata": {},
   "outputs": [],
   "source": [
    "# calculate user similarity using cosine similarity\n",
    "user_sim = cosine_similarity(user_item_matrix.fillna(0))"
   ]
  },
  {
   "cell_type": "markdown",
   "metadata": {},
   "source": [
    "To make recommendations for a target user, we identify users similar to the target user and recommend anime that they have rated positively."
   ]
  },
  {
   "cell_type": "code",
   "execution_count": 45,
   "metadata": {},
   "outputs": [],
   "source": [
    "def user_based_recommendations(user_id,user_item_matrix,user_sim,n=5):\n",
    "    # get similarity scores for the user\n",
    "    user_scores = user_sim[user_id - 1]\n",
    "\n",
    "    # sort users based on their similarity score in descending order\n",
    "    sorted_user_scores = sorted(enumerate(user_scores), key=lambda x: x[1], reverse=True)\n",
    "\n",
    "    # Initialize empty list to store the recommendations\n",
    "    recommendations = []\n",
    "\n",
    "    for user,score in sorted_user_scores[1:]: # exclude the user itself\n",
    "        # get anime that user rated positively\n",
    "        anime_rated = user_item_matrix.loc[user_item_matrix.index[user -1]]\n",
    "        positive_anime_rated = anime_rated[anime_rated >= 6].index\n",
    "\n",
    "        # exclude anime that the user already rated\n",
    "        target_anime = user_item_matrix.loc[user_id].dropna().index\n",
    "        recommendations.extend(set(positive_anime_rated) - set(target_anime))\n",
    "\n",
    "        # limit the number of recommendations to n\n",
    "        if len(recommendations) >= n:\n",
    "            break\n",
    "\n",
    "    return recommendations[:n]"
   ]
  },
  {
   "cell_type": "markdown",
   "metadata": {},
   "source": [
    "# Item based Collaborative filtering\n",
    "\n",
    "To implement item-based collaborative filtering, we calculate the similarity between anime based on user ratings."
   ]
  },
  {
   "cell_type": "code",
   "execution_count": 41,
   "metadata": {},
   "outputs": [],
   "source": [
    "# calculate item similarity using cosine similarity\n",
    "item_sim = cosine_similarity(user_item_matrix.fillna(0).T)"
   ]
  },
  {
   "cell_type": "markdown",
   "metadata": {},
   "source": [
    "To make item-based recommendations, we identify anime similar to those the user has already rated positively."
   ]
  },
  {
   "cell_type": "code",
   "execution_count": 46,
   "metadata": {},
   "outputs": [],
   "source": [
    "def item_based_recommendations(user_id,user_item_matrix,item_sim,n=5):\n",
    "    # get the anime that the user rated positively\n",
    "    positively_rated_anime = user_item_matrix.loc[user_id][user_item_matrix.loc[user_id] >= 6].index\n",
    "\n",
    "    # Initialize empty list to store the recommendations\n",
    "    recommended_animes = []\n",
    "\n",
    "    for anime_id in positively_rated_anime:\n",
    "        # get anime that are similar to the positively rated anime\n",
    "        similar_animes = item_sim[anime_id - 1]\n",
    "\n",
    "        # sort anime based on their similarity score in descending order\n",
    "        sorted_similar_animes = sorted(enumerate(similar_animes), key=lambda x: x[1], reverse=True)\n",
    "\n",
    "        for anime,score in sorted_similar_animes[1:]:\n",
    "            # exclude anime that the user already rated\n",
    "            if anime not in user_item_matrix.loc[user_id].dropna().index:\n",
    "                recommended_animes.append(anime)\n",
    "\n",
    "            # limit the number of recommendations to n\n",
    "            if len(recommended_animes) >= n:\n",
    "                break\n",
    "    \n",
    "    return recommended_animes[:n]"
   ]
  },
  {
   "cell_type": "code",
   "execution_count": 56,
   "metadata": {},
   "outputs": [],
   "source": [
    "# choose a user id for recommendation test\n",
    "user_id = 9\n",
    "\n",
    "# test user-based recommendation\n",
    "user_recommendation = user_based_recommendations(user_id,user_item_matrix,user_sim,n=5)\n",
    "\n",
    "# test item-based recommendation\n",
    "item_recommendation = item_based_recommendations(user_id,user_item_matrix,item_sim,n=5)"
   ]
  },
  {
   "cell_type": "code",
   "execution_count": 57,
   "metadata": {},
   "outputs": [
    {
     "name": "stdout",
     "output_type": "stream",
     "text": [
      "User-based recommendation for user 9:\n",
      " - Campione!: Matsurowanu Kamigami to Kamigoroshi no Maou\n",
      " - Yamada-kun to 7-nin no Majo (TV)\n",
      " - Re:Zero kara Hajimeru Isekai Seikatsu\n",
      " - Haiyore! Nyaruko-san\n",
      " - Ore ga Ojousama Gakkou ni &quot;Shomin Sample&quot; Toshite Gets♥Sareta Ken\n",
      "\n",
      "Item-based recommendation for user 9:\n",
      " - Sazae-san\n",
      " - Gad Guard\n",
      " - Naruto Movie 1: Dai Katsugeki!! Yuki Hime Shinobu Houjou Dattebayo!\n",
      " - Shin Tenchi Muyou!\n",
      " - Shinkon Gattai Godannar!! 2nd Season\n"
     ]
    }
   ],
   "source": [
    "# display the recommendations\n",
    "print(f\"User-based recommendation for user {user_id}:\")\n",
    "for anime_id in user_recommendation:\n",
    "    anime_name = anime_df.loc[anime_df['anime_id'] == anime_id]['name'].values[0]\n",
    "    print(f\" - {anime_name}\")\n",
    "\n",
    "print(f\"\\nItem-based recommendation for user {user_id}:\")\n",
    "for anime_id in item_recommendation:\n",
    "    anime_name = anime_df.loc[anime_df['anime_id'] == anime_id]['name'].values[0]\n",
    "    print(f\" - {anime_name}\")"
   ]
  }
 ],
 "metadata": {
  "kernelspec": {
   "display_name": "Python 3",
   "language": "python",
   "name": "python3"
  },
  "language_info": {
   "codemirror_mode": {
    "name": "ipython",
    "version": 3
   },
   "file_extension": ".py",
   "mimetype": "text/x-python",
   "name": "python",
   "nbconvert_exporter": "python",
   "pygments_lexer": "ipython3",
   "version": "3.11.4"
  },
  "orig_nbformat": 4
 },
 "nbformat": 4,
 "nbformat_minor": 2
}
